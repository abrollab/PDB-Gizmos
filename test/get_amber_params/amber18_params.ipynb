{
 "cells": [
  {
   "cell_type": "code",
   "execution_count": 35,
   "metadata": {},
   "outputs": [],
   "source": [
    "import os\n",
    "from tabulate import tabulate\n",
    "from bs4 import BeautifulSoup "
   ]
  },
  {
   "cell_type": "code",
   "execution_count": 69,
   "metadata": {},
   "outputs": [],
   "source": [
    "def parse_and_extract(html_file):\n",
    "    \"\"\"Parses HTML table contents and extracts AMBER paramters\n",
    "\n",
    "    Parameters\n",
    "    ----------\n",
    "    contents : str\n",
    "        Contents of HTML table\n",
    "\n",
    "    Returns\n",
    "    -------\n",
    "    list\n",
    "        list of list containing parameter and description\n",
    "\n",
    "    \"\"\"\n",
    "    contents = open(html_file).read()\n",
    "    soup = BeautifulSoup(contents)\n",
    "    table_rows = soup.find_all(\"tr\")\n",
    "\n",
    "    amber_params = []\n",
    "    amber_params.append([\"parameter\", \"description\"])\n",
    "    for row in table_rows:\n",
    "        table_data = row.find_all(\"td\")\n",
    "        param = table_data[0].text.replace(\"\\n\", \"\")\n",
    "        description_list = table_data[1].text.replace(\"\\n\", \"\").split()\n",
    "        # formating lines\n",
    "        description_chunks = [(\" \".join(description_list[i:i+15])) for i in range(0, len(description_list), 15)]\n",
    "        description = \"\\n\".join(description_chunks)\n",
    "        results = [param, description]\n",
    "        amber_params.append(results)\n",
    "    return amber_params\n",
    "        \n",
    "    "
   ]
  },
  {
   "cell_type": "code",
   "execution_count": 74,
   "metadata": {},
   "outputs": [
    {
     "data": {
      "text/plain": [
       "{'barostat': 'Specifies the barostat for pressure control. = 1: Berendsen [Default] = 2: Monte Carlo',\n",
       " 'cut': 'Specifies the nonbonded cutoff (in Å). Any value can be specified. = 9999.0: Effectively an\\ninfinite cutoff. [Default when igb > 0] = 8.0: A “good value.” [Default when igb\\n== 0]',\n",
       " 'dt': 'Specifies the time step in picoseconds. = 0.001: Recommended maximum for runs without SHAKE (equivalent\\nto 1 fs). [Default] = 0.002: Recommended maximum for runs with SHAKE (equivalent to 2\\nfs).',\n",
       " 'gamma_ln': 'Specifies the collision frequency, γ, in ps-1 when using ntt = 3. Also specifies constants\\nwhen ntt = 9 and ntt = 10 = 0: [Default]',\n",
       " 'ibelly': 'Specifies belly type dynamics. = 1: Some atoms in the system are allowed to move,\\nand the rest will be frozen. The moving atoms are specified through bellymask. Note: ibelly\\n≠ 0 is not supported by GPUs.',\n",
       " 'ig': 'The random seed. MD starting velocities are dependent on the random number. Setting a specific\\nrandom seed can be done to check reproducibility. = -1: Seed is set based off\\ncurrent date and time. [Default]',\n",
       " 'imin': 'Specifies the minization settings. = 0: Run MD without minimization [Default] = 1: Energy minimization\\n= 5: Read trajectory for analysis',\n",
       " 'ioutfm': 'Specifies the format for the coordinate and velocity trajectory files. = 0: Formatted ASCII =\\n1: Binary NetCDF [Default]',\n",
       " 'irest': 'Allows a simulation to be restarted. = 0: Run a new simulation, not a restart.\\nVelocities ignored, and time step set to 0. [Default] = 1: Restart simulation, using coordinates\\nand velocities from previously saved restart file. If using this flag, need ntx > 4',\n",
       " 'iwrap': 'Specifies wrapping coordinates of restart and trajectory files to within the primary box. = 0:\\nNo wrapping. The use of cpptraj will be necessary to translate back to primary box.\\n[Default] = 1: Wrapping is performed. May be necessary for very long runs if files\\nwritten to ASCII and not NetCDF.',\n",
       " 'maxcyc': 'Specifies the maximum number of cycles for minimization. [Default = 1].',\n",
       " 'ncyc': 'Minimization method will switch from steepest descent to conjugate gradient after this many cycles (when\\ndefault ntmin = 1). [Default = 10]',\n",
       " 'nmropt': 'This specifies whether NMR data will be performed. = 0: No NMR analysis will be\\ndone [Default] = 1: Gives NMR restraints and weight changes = 5: Gives NMR restraints,\\nweight changes, NOESY volumes, chemical shifts, and residual dipolar restraints Note: nmropt > 1 is\\nunsupported for runs on GPUs.',\n",
       " 'nsnb': 'Specifies the frequency of nonbonded list updates when igb = nbflag = 0. [Default 25]',\n",
       " 'nstlim': 'Specifies the number of MD steps to run. [Default = 1]',\n",
       " 'ntb': 'Specifies whether the system is subjected to periodic boundaries. = 0: No periodicity and PME\\nis off. [Default when igb > 0] = 1: Constant volume. [Default when ntp =\\nigb = 0, which are both their respective defaults] = 2: Constant pressure. [Default when\\nntp > 0]',\n",
       " 'ntc': 'Specifies whether to perform SHAKE (helps ensure bonds meet proper length constraints, and should be\\nused for MD simulations). When using TIP3P water, use ntf = ntc = 2. =\\n1: No SHAKE [Default] = 2: Bonds with hydrogen are constrained = 3: All bonds\\nare constrained (not an option for QM/MM or parallel runs using sander).',\n",
       " 'ntf': 'Specifies how forces are evaluated. = 1: calculates complete interactions [Default] = 2: calculation ignores\\nbond interactions with H-atoms (use with ntc = 2) = 3: calculation ignores all bond\\ninteractions (use with ntc = 3) = 4: calculation ignores all bonds and angles with\\nH-atoms = 5: calculation ignores all bonds and angle interactions = 6: calculation ignores dihedrals\\ninvolving H-atoms and all bonds and angle interactions = 7: calculation ignores all bond, angle,\\nand dihedral interactions = 8: calculation ignores all bond, angle, dihedral, and non-bonded interactions',\n",
       " 'ntp': 'Specifies constant pressure dynamics. = 0: no pressure scaling performed. [Default] = 1: MD with\\nisotropic position scaling. = 2: MD with anisotropic pressure scaling (should only be used with\\northogonal boxes, aka “solvateoct”). = 3: MD with semiisotropic pressure scaling (should only be used\\nwith “solvateoct” and csurften > 0).',\n",
       " 'ntpr': 'Specifies after how many steps the energy information will be printed to both mdout and\\nmdinfo. [Default = 50]',\n",
       " 'ntr': 'Specifies whether atoms specified through the restraintmask string should be restrained in Cartesian space with\\na harmonic potential when ntr = 1. [Default = 0]',\n",
       " 'ntt': 'Specifies temperature scaling. = 0: Constant total energy, assuming ntb < 2. Microcanonical NVE. =\\n1: Constant temperature, with weak-coupling algorithm. Dangerous for generalized Born simulations. = 2: Anderson-like temperature,\\nwith Newtonian dynamics. Canonical (constant T) ensemble. = 3: Langevin dynamics with collision frequency specified\\nby gamma_ln. (If gamma_ln = 0, same as ntt = 0). Restarts of these systems\\nshould have an explicitly set ig value. = 9: Optimized Isokinetic Nose-Hoover (OIN) chain ensemble,\\naka a fancy constant temperature simulation. = 10: Stochastic Isokinetic Nose-Hoover RESPA Integrator. Can help\\ndemonstrate a Boltzman distribution.',\n",
       " 'ntwv': 'Specifies how frequently velocities are written to the mdvel file. = -1: velocities written to\\nmdcrd, in a combined coordinate/velocity trajectory file. Must be used with NetCDF binary outpput (ioutfm\\n= 1). = 0: no velocity trajectory file is written. [Default]',\n",
       " 'ntwx': 'Specifies how frequently coordinates are written to the mdcrd (trajectory) file. If ntwx = 0,\\nno trajectory file is written. [Default = 0]',\n",
       " 'ntx': 'Specifies what will be read from the inpcrd file. This can be used with either\\nASCII or NetCDF formatted data. = 1: Coordinates will be read [Default] = 5: Coordinates\\nand velocities will be read. When ntb > 0, box information read. Note: need irest\\n= 1 to use velocity information.',\n",
       " 'pres0': 'The reference pressure (in bar, where 1 bar = 0.987 atm). [Default = 1]',\n",
       " 'restraint_wt': 'The weight of positional restraints (in kcal mol-1-Å2).',\n",
       " 'restraintmask': 'The string that explains what atoms should be restrained when ntr= 1.',\n",
       " 't': 'Specifies the time at the start (for personal reference). Automatically taken from an input file\\nif IREST = 1. = 0.0: [Default]',\n",
       " 'taup': 'Specifies the pressure relaxation time when nto > 0. Recommended to be between 1-5 ps.\\nUnstable trajectories may need a higher value. = 1.0: [Default]',\n",
       " 'tautp': 'Specifies the time constant (in ps) when ntt = 1. Values should range from 0.5-5.0\\nps; small values result in faster heating and less natural movement. = 1.0: [Default]',\n",
       " 'temp0': 'The temperature that systems with ntt > 0 should be held constant at. = 300:\\n[Default] If greater than 300, reduce step size, because of potential for errors with SHAKE\\nand other things.',\n",
       " 'tempi': 'Specifies the initial temperature, assigning velocites from a Maxwellian distribution. This has no impact if\\nntx > 3 = 0.0: velocities calculated from the forces, instead of assigned. [Default]',\n",
       " 'vlimit': 'Velocities greater than specified vlimit will be reduced to it, keeping the sign, which helps\\navoid run instability. [Default = 20]'}"
      ]
     },
     "execution_count": 74,
     "metadata": {},
     "output_type": "execute_result"
    }
   ],
   "source": [
    "html_path = \"./amber18_params.html\"\n",
    "results = parse_and_extract(html_path)\n",
    "\n",
    "dit = dict(results[1:])\n",
    "dit"
   ]
  },
  {
   "cell_type": "code",
   "execution_count": 71,
   "metadata": {},
   "outputs": [
    {
     "name": "stdout",
     "output_type": "stream",
     "text": [
      "╒═══════════════╤════════════════════════════════════════════════════════════════════════════════════════════════════════════════════════════════════╕\n",
      "│ parameter     │ description                                                                                                                        │\n",
      "╞═══════════════╪════════════════════════════════════════════════════════════════════════════════════════════════════════════════════════════════════╡\n",
      "│ barostat      │ Specifies the barostat for pressure control. = 1: Berendsen [Default] = 2: Monte Carlo                                             │\n",
      "├───────────────┼────────────────────────────────────────────────────────────────────────────────────────────────────────────────────────────────────┤\n",
      "│ cut           │ Specifies the nonbonded cutoff (in Å). Any value can be specified. = 9999.0: Effectively an                                        │\n",
      "│               │ infinite cutoff. [Default when igb > 0] = 8.0: A “good value.” [Default when igb                                                   │\n",
      "│               │ == 0]                                                                                                                              │\n",
      "├───────────────┼────────────────────────────────────────────────────────────────────────────────────────────────────────────────────────────────────┤\n",
      "│ dt            │ Specifies the time step in picoseconds. = 0.001: Recommended maximum for runs without SHAKE (equivalent                            │\n",
      "│               │ to 1 fs). [Default] = 0.002: Recommended maximum for runs with SHAKE (equivalent to 2                                              │\n",
      "│               │ fs).                                                                                                                               │\n",
      "├───────────────┼────────────────────────────────────────────────────────────────────────────────────────────────────────────────────────────────────┤\n",
      "│ gamma_ln      │ Specifies the collision frequency, γ, in ps-1 when using ntt = 3. Also specifies constants                                         │\n",
      "│               │ when ntt = 9 and ntt = 10 = 0: [Default]                                                                                           │\n",
      "├───────────────┼────────────────────────────────────────────────────────────────────────────────────────────────────────────────────────────────────┤\n",
      "│ ibelly        │ Specifies belly type dynamics. = 1: Some atoms in the system are allowed to move,                                                  │\n",
      "│               │ and the rest will be frozen. The moving atoms are specified through bellymask. Note: ibelly                                        │\n",
      "│               │ ≠ 0 is not supported by GPUs.                                                                                                      │\n",
      "├───────────────┼────────────────────────────────────────────────────────────────────────────────────────────────────────────────────────────────────┤\n",
      "│ ig            │ The random seed. MD starting velocities are dependent on the random number. Setting a specific                                     │\n",
      "│               │ random seed can be done to check reproducibility. = -1: Seed is set based off                                                      │\n",
      "│               │ current date and time. [Default]                                                                                                   │\n",
      "├───────────────┼────────────────────────────────────────────────────────────────────────────────────────────────────────────────────────────────────┤\n",
      "│ imin          │ Specifies the minization settings. = 0: Run MD without minimization [Default] = 1: Energy minimization                             │\n",
      "│               │ = 5: Read trajectory for analysis                                                                                                  │\n",
      "├───────────────┼────────────────────────────────────────────────────────────────────────────────────────────────────────────────────────────────────┤\n",
      "│ ioutfm        │ Specifies the format for the coordinate and velocity trajectory files. = 0: Formatted ASCII =                                      │\n",
      "│               │ 1: Binary NetCDF [Default]                                                                                                         │\n",
      "├───────────────┼────────────────────────────────────────────────────────────────────────────────────────────────────────────────────────────────────┤\n",
      "│ irest         │ Allows a simulation to be restarted. = 0: Run a new simulation, not a restart.                                                     │\n",
      "│               │ Velocities ignored, and time step set to 0. [Default] = 1: Restart simulation, using coordinates                                   │\n",
      "│               │ and velocities from previously saved restart file. If using this flag, need ntx > 4                                                │\n",
      "├───────────────┼────────────────────────────────────────────────────────────────────────────────────────────────────────────────────────────────────┤\n",
      "│ iwrap         │ Specifies wrapping coordinates of restart and trajectory files to within the primary box. = 0:                                     │\n",
      "│               │ No wrapping. The use of cpptraj will be necessary to translate back to primary box.                                                │\n",
      "│               │ [Default] = 1: Wrapping is performed. May be necessary for very long runs if files                                                 │\n",
      "│               │ written to ASCII and not NetCDF.                                                                                                   │\n",
      "├───────────────┼────────────────────────────────────────────────────────────────────────────────────────────────────────────────────────────────────┤\n",
      "│ maxcyc        │ Specifies the maximum number of cycles for minimization. [Default = 1].                                                            │\n",
      "├───────────────┼────────────────────────────────────────────────────────────────────────────────────────────────────────────────────────────────────┤\n",
      "│ ncyc          │ Minimization method will switch from steepest descent to conjugate gradient after this many cycles (when                           │\n",
      "│               │ default ntmin = 1). [Default = 10]                                                                                                 │\n",
      "├───────────────┼────────────────────────────────────────────────────────────────────────────────────────────────────────────────────────────────────┤\n",
      "│ nmropt        │ This specifies whether NMR data will be performed. = 0: No NMR analysis will be                                                    │\n",
      "│               │ done [Default] = 1: Gives NMR restraints and weight changes = 5: Gives NMR restraints,                                             │\n",
      "│               │ weight changes, NOESY volumes, chemical shifts, and residual dipolar restraints Note: nmropt > 1 is                                │\n",
      "│               │ unsupported for runs on GPUs.                                                                                                      │\n",
      "├───────────────┼────────────────────────────────────────────────────────────────────────────────────────────────────────────────────────────────────┤\n",
      "│ nsnb          │ Specifies the frequency of nonbonded list updates when igb = nbflag = 0. [Default 25]                                              │\n",
      "├───────────────┼────────────────────────────────────────────────────────────────────────────────────────────────────────────────────────────────────┤\n",
      "│ nstlim        │ Specifies the number of MD steps to run. [Default = 1]                                                                             │\n",
      "├───────────────┼────────────────────────────────────────────────────────────────────────────────────────────────────────────────────────────────────┤\n",
      "│ ntb           │ Specifies whether the system is subjected to periodic boundaries. = 0: No periodicity and PME                                      │\n",
      "│               │ is off. [Default when igb > 0] = 1: Constant volume. [Default when ntp =                                                           │\n",
      "│               │ igb = 0, which are both their respective defaults] = 2: Constant pressure. [Default when                                           │\n",
      "│               │ ntp > 0]                                                                                                                           │\n",
      "├───────────────┼────────────────────────────────────────────────────────────────────────────────────────────────────────────────────────────────────┤\n",
      "│ ntc           │ Specifies whether to perform SHAKE (helps ensure bonds meet proper length constraints, and should be                               │\n",
      "│               │ used for MD simulations). When using TIP3P water, use ntf = ntc = 2. =                                                             │\n",
      "│               │ 1: No SHAKE [Default] = 2: Bonds with hydrogen are constrained = 3: All bonds                                                      │\n",
      "│               │ are constrained (not an option for QM/MM or parallel runs using sander).                                                           │\n",
      "├───────────────┼────────────────────────────────────────────────────────────────────────────────────────────────────────────────────────────────────┤\n",
      "│ ntf           │ Specifies how forces are evaluated. = 1: calculates complete interactions [Default] = 2: calculation ignores                       │\n",
      "│               │ bond interactions with H-atoms (use with ntc = 2) = 3: calculation ignores all bond                                                │\n",
      "│               │ interactions (use with ntc = 3) = 4: calculation ignores all bonds and angles with                                                 │\n",
      "│               │ H-atoms = 5: calculation ignores all bonds and angle interactions = 6: calculation ignores dihedrals                               │\n",
      "│               │ involving H-atoms and all bonds and angle interactions = 7: calculation ignores all bond, angle,                                   │\n",
      "│               │ and dihedral interactions = 8: calculation ignores all bond, angle, dihedral, and non-bonded interactions                          │\n",
      "├───────────────┼────────────────────────────────────────────────────────────────────────────────────────────────────────────────────────────────────┤\n",
      "│ ntp           │ Specifies constant pressure dynamics. = 0: no pressure scaling performed. [Default] = 1: MD with                                   │\n",
      "│               │ isotropic position scaling. = 2: MD with anisotropic pressure scaling (should only be used with                                    │\n",
      "│               │ orthogonal boxes, aka “solvateoct”). = 3: MD with semiisotropic pressure scaling (should only be used                              │\n",
      "│               │ with “solvateoct” and csurften > 0).                                                                                               │\n",
      "├───────────────┼────────────────────────────────────────────────────────────────────────────────────────────────────────────────────────────────────┤\n",
      "│ ntpr          │ Specifies after how many steps the energy information will be printed to both mdout and                                            │\n",
      "│               │ mdinfo. [Default = 50]                                                                                                             │\n",
      "├───────────────┼────────────────────────────────────────────────────────────────────────────────────────────────────────────────────────────────────┤\n",
      "│ ntr           │ Specifies whether atoms specified through the restraintmask string should be restrained in Cartesian space with                    │\n",
      "│               │ a harmonic potential when ntr = 1. [Default = 0]                                                                                   │\n",
      "├───────────────┼────────────────────────────────────────────────────────────────────────────────────────────────────────────────────────────────────┤\n",
      "│ ntt           │ Specifies temperature scaling. = 0: Constant total energy, assuming ntb < 2. Microcanonical NVE. =                                 │\n",
      "│               │ 1: Constant temperature, with weak-coupling algorithm. Dangerous for generalized Born simulations. = 2: Anderson-like temperature, │\n",
      "│               │ with Newtonian dynamics. Canonical (constant T) ensemble. = 3: Langevin dynamics with collision frequency specified                │\n",
      "│               │ by gamma_ln. (If gamma_ln = 0, same as ntt = 0). Restarts of these systems                                                         │\n",
      "│               │ should have an explicitly set ig value. = 9: Optimized Isokinetic Nose-Hoover (OIN) chain ensemble,                                │\n",
      "│               │ aka a fancy constant temperature simulation. = 10: Stochastic Isokinetic Nose-Hoover RESPA Integrator. Can help                    │\n",
      "│               │ demonstrate a Boltzman distribution.                                                                                               │\n",
      "├───────────────┼────────────────────────────────────────────────────────────────────────────────────────────────────────────────────────────────────┤\n",
      "│ ntwv          │ Specifies how frequently velocities are written to the mdvel file. = -1: velocities written to                                     │\n",
      "│               │ mdcrd, in a combined coordinate/velocity trajectory file. Must be used with NetCDF binary outpput (ioutfm                          │\n",
      "│               │ = 1). = 0: no velocity trajectory file is written. [Default]                                                                       │\n",
      "├───────────────┼────────────────────────────────────────────────────────────────────────────────────────────────────────────────────────────────────┤\n",
      "│ ntwx          │ Specifies how frequently coordinates are written to the mdcrd (trajectory) file. If ntwx = 0,                                      │\n",
      "│               │ no trajectory file is written. [Default = 0]                                                                                       │\n",
      "├───────────────┼────────────────────────────────────────────────────────────────────────────────────────────────────────────────────────────────────┤\n",
      "│ ntx           │ Specifies what will be read from the inpcrd file. This can be used with either                                                     │\n",
      "│               │ ASCII or NetCDF formatted data. = 1: Coordinates will be read [Default] = 5: Coordinates                                           │\n",
      "│               │ and velocities will be read. When ntb > 0, box information read. Note: need irest                                                  │\n",
      "│               │ = 1 to use velocity information.                                                                                                   │\n",
      "├───────────────┼────────────────────────────────────────────────────────────────────────────────────────────────────────────────────────────────────┤\n",
      "│ pres0         │ The reference pressure (in bar, where 1 bar = 0.987 atm). [Default = 1]                                                            │\n",
      "├───────────────┼────────────────────────────────────────────────────────────────────────────────────────────────────────────────────────────────────┤\n",
      "│ restraint_wt  │ The weight of positional restraints (in kcal mol-1-Å2).                                                                            │\n",
      "├───────────────┼────────────────────────────────────────────────────────────────────────────────────────────────────────────────────────────────────┤\n",
      "│ restraintmask │ The string that explains what atoms should be restrained when ntr= 1.                                                              │\n",
      "├───────────────┼────────────────────────────────────────────────────────────────────────────────────────────────────────────────────────────────────┤\n",
      "│ t             │ Specifies the time at the start (for personal reference). Automatically taken from an input file                                   │\n",
      "│               │ if IREST = 1. = 0.0: [Default]                                                                                                     │\n",
      "├───────────────┼────────────────────────────────────────────────────────────────────────────────────────────────────────────────────────────────────┤\n",
      "│ taup          │ Specifies the pressure relaxation time when nto > 0. Recommended to be between 1-5 ps.                                             │\n",
      "│               │ Unstable trajectories may need a higher value. = 1.0: [Default]                                                                    │\n",
      "├───────────────┼────────────────────────────────────────────────────────────────────────────────────────────────────────────────────────────────────┤\n",
      "│ tautp         │ Specifies the time constant (in ps) when ntt = 1. Values should range from 0.5-5.0                                                 │\n",
      "│               │ ps; small values result in faster heating and less natural movement. = 1.0: [Default]                                              │\n",
      "├───────────────┼────────────────────────────────────────────────────────────────────────────────────────────────────────────────────────────────────┤\n",
      "│ temp0         │ The temperature that systems with ntt > 0 should be held constant at. = 300:                                                       │\n",
      "│               │ [Default] If greater than 300, reduce step size, because of potential for errors with SHAKE                                        │\n",
      "│               │ and other things.                                                                                                                  │\n",
      "├───────────────┼────────────────────────────────────────────────────────────────────────────────────────────────────────────────────────────────────┤\n",
      "│ tempi         │ Specifies the initial temperature, assigning velocites from a Maxwellian distribution. This has no impact if                       │\n",
      "│               │ ntx > 3 = 0.0: velocities calculated from the forces, instead of assigned. [Default]                                               │\n",
      "├───────────────┼────────────────────────────────────────────────────────────────────────────────────────────────────────────────────────────────────┤\n",
      "│ vlimit        │ Velocities greater than specified vlimit will be reduced to it, keeping the sign, which helps                                      │\n",
      "│               │ avoid run instability. [Default = 20]                                                                                              │\n",
      "╘═══════════════╧════════════════════════════════════════════════════════════════════════════════════════════════════════════════════════════════════╛\n"
     ]
    }
   ],
   "source": [
    "print(tabulate(results, headers=\"firstrow\", tablefmt=\"fancy_grid\"))"
   ]
  },
  {
   "cell_type": "code",
   "execution_count": 76,
   "metadata": {},
   "outputs": [
    {
     "name": "stdout",
     "output_type": "stream",
     "text": [
      "the\n"
     ]
    }
   ],
   "source": [
    "ls = [\"the\"]\n",
    "for i in ls:\n",
    "    print(i)"
   ]
  },
  {
   "cell_type": "code",
   "execution_count": 77,
   "metadata": {},
   "outputs": [],
   "source": [
    "from collections import defaultdict"
   ]
  },
  {
   "cell_type": "code",
   "execution_count": 81,
   "metadata": {},
   "outputs": [],
   "source": [
    "ls = []\n",
    "for x, y in results:\n",
    "    ls.append(x)"
   ]
  },
  {
   "cell_type": "code",
   "execution_count": 82,
   "metadata": {},
   "outputs": [
    {
     "data": {
      "text/plain": [
       "['parameter',\n",
       " 'barostat',\n",
       " 'cut',\n",
       " 'dt',\n",
       " 'gamma_ln',\n",
       " 'ibelly',\n",
       " 'ig',\n",
       " 'imin',\n",
       " 'ioutfm',\n",
       " 'irest',\n",
       " 'iwrap',\n",
       " 'maxcyc',\n",
       " 'ncyc',\n",
       " 'nmropt',\n",
       " 'nsnb',\n",
       " 'nstlim',\n",
       " 'ntb',\n",
       " 'ntc',\n",
       " 'ntf',\n",
       " 'ntp',\n",
       " 'ntpr',\n",
       " 'ntr',\n",
       " 'ntt',\n",
       " 'ntwv',\n",
       " 'ntwx',\n",
       " 'ntx',\n",
       " 'pres0',\n",
       " 'restraint_wt',\n",
       " 'restraintmask',\n",
       " 't',\n",
       " 'taup',\n",
       " 'tautp',\n",
       " 'temp0',\n",
       " 'tempi',\n",
       " 'vlimit']"
      ]
     },
     "execution_count": 82,
     "metadata": {},
     "output_type": "execute_result"
    }
   ],
   "source": [
    "ls"
   ]
  },
  {
   "cell_type": "code",
   "execution_count": null,
   "metadata": {},
   "outputs": [],
   "source": []
  }
 ],
 "metadata": {
  "interpreter": {
   "hash": "1f89458deca3ca18591a84fdf1e703d2c43dc698aaa275754e9258486684cef0"
  },
  "kernelspec": {
   "display_name": "Python 3.7.11 64-bit ('cyberbio': conda)",
   "language": "python",
   "name": "python3"
  },
  "language_info": {
   "codemirror_mode": {
    "name": "ipython",
    "version": 3
   },
   "file_extension": ".py",
   "mimetype": "text/x-python",
   "name": "python",
   "nbconvert_exporter": "python",
   "pygments_lexer": "ipython3",
   "version": "3.7.11"
  },
  "orig_nbformat": 4
 },
 "nbformat": 4,
 "nbformat_minor": 2
}
