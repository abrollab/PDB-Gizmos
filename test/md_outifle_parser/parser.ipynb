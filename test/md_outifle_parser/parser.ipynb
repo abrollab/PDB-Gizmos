{
 "metadata": {
  "language_info": {
   "codemirror_mode": {
    "name": "ipython",
    "version": 3
   },
   "file_extension": ".py",
   "mimetype": "text/x-python",
   "name": "python",
   "nbconvert_exporter": "python",
   "pygments_lexer": "ipython3",
   "version": "3.8.3"
  },
  "orig_nbformat": 2,
  "kernelspec": {
   "name": "python383jvsc74a57bd0672f224989a8d5536e961a08a62944a7ff66376f0e517c0a40194a6e25ed9755",
   "display_name": "Python 3.8.3 64-bit",
   "language": "python"
  }
 },
 "nbformat": 4,
 "nbformat_minor": 2,
 "cells": [
  {
   "cell_type": "code",
   "execution_count": 73,
   "metadata": {},
   "outputs": [],
   "source": [
    "import os \n",
    "import sys\n",
    "import re\n",
    "from pprint import pprint"
   ]
  },
  {
   "cell_type": "code",
   "execution_count": 30,
   "metadata": {
    "tags": []
   },
   "outputs": [],
   "source": [
    "with open(\"/home/axiomcura/Desktop/md_outifle_parser/5g53_active_step6_prod_full.out\") as infile:\n",
    "    ls = []\n",
    "    for line in infile:\n",
    "        ls.append(line)\n",
    "\n",
    "x = \"\".join(ls)"
   ]
  },
  {
   "cell_type": "code",
   "execution_count": 44,
   "metadata": {
    "tags": []
   },
   "outputs": [],
   "source": [
    "z = x.split(\"4.  RESULTS\")[1]\n",
    "y = \"\".join(z.split(\"A V E R A G E S   O V E R   50000 S T E P S\")[0])"
   ]
  },
  {
   "cell_type": "code",
   "execution_count": 82,
   "metadata": {
    "tags": []
   },
   "outputs": [],
   "source": [
    "raw_data = []\n",
    "for line in y.split(\"\\n\"):\n",
    "    x = line.strip(\" ------------------------------------------------------------------------------\")\n",
    "    if len(x) != 0:\n",
    "        raw_data.append(x)\n",
    "z = \"\".join(raw_data)   \n",
    "w = re.split(\"NSTEP\", z)"
   ]
  },
  {
   "cell_type": "code",
   "execution_count": 104,
   "metadata": {},
   "outputs": [
    {
     "output_type": "execute_result",
     "data": {
      "text/plain": [
       "'NSTEP = 2000 TIME(PS) = 354.000 TEMP(K) = 309.70 PRESS = 27.1Etot = -106842.3386 EKtot = 45979.2031 EPtot = -152821.5417BOND = 3247.8978 ANGLE = 11482.0954 DIHED = 11174.1648UB = 3847.8087 IMP = 236.7278 CMAP = -19.36671-4 NB = 2232.6364 1-4 EEL = -4595.5945 VDWAALS = 2761.9843EELEC = -183189.8956 EHBOND = 0.0000 RESTRAINT = 0.0000EKCMT = 13800.7016 VIRIAL = 13407.1344 VOLUME = 671890.8310Density = 1.0328'"
      ]
     },
     "metadata": {},
     "execution_count": 104
    }
   ],
   "source": [
    "x = \"NSTEP \" + \" \".join(w[2].split())\n",
    "x"
   ]
  },
  {
   "cell_type": "code",
   "execution_count": 103,
   "metadata": {},
   "outputs": [
    {
     "output_type": "execute_result",
     "data": {
      "text/plain": [
       "'NSTEP = 2000 TIME(PS) = 354.000 TEMP(K) = 309.70 PRESS = 27.1Etot = -106842.3386 EKtot = 45979.2031 EPtot = -152821.5417BOND = 3247.8978 ANGLE = 11482.0954 DIHED = 11174.1648UB = 3847.8087 IMP = 236.7278 CMAP = -19.36671-4 NB = 2232.6364 1-4 EEL = -4595.5945 VDWAALS = 2761.9843EELEC = -183189.8956 EHBOND = 0.0000 RESTRAINT = 0.0000EKCMT = 13800.7016 VIRIAL = 13407.1344 VOLUME = 671890.8310Density = 1.0328'"
      ]
     },
     "metadata": {},
     "execution_count": 103
    }
   ],
   "source": [
    "x"
   ]
  },
  {
   "cell_type": "code",
   "execution_count": 105,
   "metadata": {},
   "outputs": [
    {
     "output_type": "execute_result",
     "data": {
      "text/plain": [
       "' =     2000   TIME(PS) =     354.000  TEMP(K) =   309.70  PRESS =    27.1Etot   =   -106842.3386  EKtot   =     45979.2031  EPtot      =   -152821.5417BOND   =      3247.8978  ANGLE   =     11482.0954  DIHED      =     11174.1648UB     =      3847.8087  IMP     =       236.7278  CMAP       =       -19.36671-4 NB =      2232.6364  1-4 EEL =     -4595.5945  VDWAALS    =      2761.9843EELEC  =   -183189.8956  EHBOND  =         0.0000  RESTRAINT  =         0.0000EKCMT  =     13800.7016  VIRIAL  =     13407.1344  VOLUME     =    671890.8310Density    =         1.0328'"
      ]
     },
     "metadata": {},
     "execution_count": 105
    }
   ],
   "source": [
    "w[2]"
   ]
  },
  {
   "cell_type": "code",
   "execution_count": null,
   "metadata": {},
   "outputs": [],
   "source": []
  }
 ]
}